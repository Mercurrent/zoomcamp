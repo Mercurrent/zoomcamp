{
 "cells": [
  {
   "cell_type": "code",
   "execution_count": 1,
   "id": "58aba55f",
   "metadata": {},
   "outputs": [],
   "source": [
    "import pandas as pd\n",
    "\n",
    "from sklearn.feature_extraction import DictVectorizer\n",
    "from sklearn.linear_model import LinearRegression\n",
    "from sklearn.metrics import mean_squared_error"
   ]
  },
  {
   "cell_type": "code",
   "execution_count": 2,
   "id": "ca7d0f49",
   "metadata": {
    "scrolled": true
   },
   "outputs": [
    {
     "data": {
      "text/html": [
       "<div>\n",
       "<style scoped>\n",
       "    .dataframe tbody tr th:only-of-type {\n",
       "        vertical-align: middle;\n",
       "    }\n",
       "\n",
       "    .dataframe tbody tr th {\n",
       "        vertical-align: top;\n",
       "    }\n",
       "\n",
       "    .dataframe thead th {\n",
       "        text-align: right;\n",
       "    }\n",
       "</style>\n",
       "<table border=\"1\" class=\"dataframe\">\n",
       "  <thead>\n",
       "    <tr style=\"text-align: right;\">\n",
       "      <th></th>\n",
       "      <th>dispatching_base_num</th>\n",
       "      <th>pickup_datetime</th>\n",
       "      <th>dropOff_datetime</th>\n",
       "      <th>PUlocationID</th>\n",
       "      <th>DOlocationID</th>\n",
       "      <th>SR_Flag</th>\n",
       "      <th>Affiliated_base_number</th>\n",
       "    </tr>\n",
       "  </thead>\n",
       "  <tbody>\n",
       "    <tr>\n",
       "      <th>0</th>\n",
       "      <td>B00009</td>\n",
       "      <td>2021-01-01 00:27:00</td>\n",
       "      <td>2021-01-01 00:44:00</td>\n",
       "      <td>NaN</td>\n",
       "      <td>NaN</td>\n",
       "      <td>None</td>\n",
       "      <td>B00009</td>\n",
       "    </tr>\n",
       "    <tr>\n",
       "      <th>1</th>\n",
       "      <td>B00009</td>\n",
       "      <td>2021-01-01 00:50:00</td>\n",
       "      <td>2021-01-01 01:07:00</td>\n",
       "      <td>NaN</td>\n",
       "      <td>NaN</td>\n",
       "      <td>None</td>\n",
       "      <td>B00009</td>\n",
       "    </tr>\n",
       "    <tr>\n",
       "      <th>2</th>\n",
       "      <td>B00013</td>\n",
       "      <td>2021-01-01 00:01:00</td>\n",
       "      <td>2021-01-01 01:51:00</td>\n",
       "      <td>NaN</td>\n",
       "      <td>NaN</td>\n",
       "      <td>None</td>\n",
       "      <td>B00013</td>\n",
       "    </tr>\n",
       "    <tr>\n",
       "      <th>3</th>\n",
       "      <td>B00037</td>\n",
       "      <td>2021-01-01 00:13:09</td>\n",
       "      <td>2021-01-01 00:21:26</td>\n",
       "      <td>NaN</td>\n",
       "      <td>72.0</td>\n",
       "      <td>None</td>\n",
       "      <td>B00037</td>\n",
       "    </tr>\n",
       "    <tr>\n",
       "      <th>4</th>\n",
       "      <td>B00037</td>\n",
       "      <td>2021-01-01 00:38:31</td>\n",
       "      <td>2021-01-01 00:53:44</td>\n",
       "      <td>NaN</td>\n",
       "      <td>61.0</td>\n",
       "      <td>None</td>\n",
       "      <td>B00037</td>\n",
       "    </tr>\n",
       "    <tr>\n",
       "      <th>...</th>\n",
       "      <td>...</td>\n",
       "      <td>...</td>\n",
       "      <td>...</td>\n",
       "      <td>...</td>\n",
       "      <td>...</td>\n",
       "      <td>...</td>\n",
       "      <td>...</td>\n",
       "    </tr>\n",
       "    <tr>\n",
       "      <th>1154107</th>\n",
       "      <td>B03266</td>\n",
       "      <td>2021-01-31 23:43:03</td>\n",
       "      <td>2021-01-31 23:51:48</td>\n",
       "      <td>7.0</td>\n",
       "      <td>7.0</td>\n",
       "      <td>None</td>\n",
       "      <td>B03266</td>\n",
       "    </tr>\n",
       "    <tr>\n",
       "      <th>1154108</th>\n",
       "      <td>B03284</td>\n",
       "      <td>2021-01-31 23:50:27</td>\n",
       "      <td>2021-02-01 00:48:03</td>\n",
       "      <td>44.0</td>\n",
       "      <td>91.0</td>\n",
       "      <td>None</td>\n",
       "      <td></td>\n",
       "    </tr>\n",
       "    <tr>\n",
       "      <th>1154109</th>\n",
       "      <td>B03285</td>\n",
       "      <td>2021-01-31 23:13:46</td>\n",
       "      <td>2021-01-31 23:29:58</td>\n",
       "      <td>171.0</td>\n",
       "      <td>171.0</td>\n",
       "      <td>None</td>\n",
       "      <td>B03285</td>\n",
       "    </tr>\n",
       "    <tr>\n",
       "      <th>1154110</th>\n",
       "      <td>B03285</td>\n",
       "      <td>2021-01-31 23:58:03</td>\n",
       "      <td>2021-02-01 00:17:29</td>\n",
       "      <td>15.0</td>\n",
       "      <td>15.0</td>\n",
       "      <td>None</td>\n",
       "      <td>B03285</td>\n",
       "    </tr>\n",
       "    <tr>\n",
       "      <th>1154111</th>\n",
       "      <td>B03321</td>\n",
       "      <td>2021-01-31 23:39:00</td>\n",
       "      <td>2021-02-01 00:15:00</td>\n",
       "      <td>NaN</td>\n",
       "      <td>NaN</td>\n",
       "      <td>None</td>\n",
       "      <td>B03321</td>\n",
       "    </tr>\n",
       "  </tbody>\n",
       "</table>\n",
       "<p>1154112 rows × 7 columns</p>\n",
       "</div>"
      ],
      "text/plain": [
       "        dispatching_base_num     pickup_datetime    dropOff_datetime  \\\n",
       "0                     B00009 2021-01-01 00:27:00 2021-01-01 00:44:00   \n",
       "1                     B00009 2021-01-01 00:50:00 2021-01-01 01:07:00   \n",
       "2                     B00013 2021-01-01 00:01:00 2021-01-01 01:51:00   \n",
       "3                     B00037 2021-01-01 00:13:09 2021-01-01 00:21:26   \n",
       "4                     B00037 2021-01-01 00:38:31 2021-01-01 00:53:44   \n",
       "...                      ...                 ...                 ...   \n",
       "1154107               B03266 2021-01-31 23:43:03 2021-01-31 23:51:48   \n",
       "1154108               B03284 2021-01-31 23:50:27 2021-02-01 00:48:03   \n",
       "1154109      B03285          2021-01-31 23:13:46 2021-01-31 23:29:58   \n",
       "1154110      B03285          2021-01-31 23:58:03 2021-02-01 00:17:29   \n",
       "1154111               B03321 2021-01-31 23:39:00 2021-02-01 00:15:00   \n",
       "\n",
       "         PUlocationID  DOlocationID SR_Flag Affiliated_base_number  \n",
       "0                 NaN           NaN    None                 B00009  \n",
       "1                 NaN           NaN    None                 B00009  \n",
       "2                 NaN           NaN    None                 B00013  \n",
       "3                 NaN          72.0    None                 B00037  \n",
       "4                 NaN          61.0    None                 B00037  \n",
       "...               ...           ...     ...                    ...  \n",
       "1154107           7.0           7.0    None                 B03266  \n",
       "1154108          44.0          91.0    None                         \n",
       "1154109         171.0         171.0    None        B03285           \n",
       "1154110          15.0          15.0    None        B03285           \n",
       "1154111           NaN           NaN    None                 B03321  \n",
       "\n",
       "[1154112 rows x 7 columns]"
      ]
     },
     "execution_count": 2,
     "metadata": {},
     "output_type": "execute_result"
    }
   ],
   "source": [
    "df = pd.read_parquet('~/Downloads/fhv_tripdata_2021-01.parquet')\n",
    "df"
   ]
  },
  {
   "cell_type": "markdown",
   "id": "bf9a46c3",
   "metadata": {},
   "source": [
    "**Q1: Read the data for January. How many records are there?**\n",
    "A: 1154112"
   ]
  },
  {
   "cell_type": "code",
   "execution_count": 3,
   "id": "e659c3d4",
   "metadata": {},
   "outputs": [
    {
     "data": {
      "text/plain": [
       "Timedelta('0 days 00:19:10.033445627')"
      ]
     },
     "execution_count": 3,
     "metadata": {},
     "output_type": "execute_result"
    }
   ],
   "source": [
    "df['duration'] = df['dropOff_datetime'] - df['pickup_datetime']\n",
    "df['duration'].mean()"
   ]
  },
  {
   "cell_type": "markdown",
   "id": "eb8d6176",
   "metadata": {},
   "source": [
    "**Q2: What's the average trip duration in January?**\n",
    "A: 19m 10s"
   ]
  },
  {
   "cell_type": "code",
   "execution_count": 4,
   "id": "95fc0d84",
   "metadata": {},
   "outputs": [
    {
     "data": {
      "text/html": [
       "<div>\n",
       "<style scoped>\n",
       "    .dataframe tbody tr th:only-of-type {\n",
       "        vertical-align: middle;\n",
       "    }\n",
       "\n",
       "    .dataframe tbody tr th {\n",
       "        vertical-align: top;\n",
       "    }\n",
       "\n",
       "    .dataframe thead th {\n",
       "        text-align: right;\n",
       "    }\n",
       "</style>\n",
       "<table border=\"1\" class=\"dataframe\">\n",
       "  <thead>\n",
       "    <tr style=\"text-align: right;\">\n",
       "      <th></th>\n",
       "      <th>dispatching_base_num</th>\n",
       "      <th>pickup_datetime</th>\n",
       "      <th>dropOff_datetime</th>\n",
       "      <th>PUlocationID</th>\n",
       "      <th>DOlocationID</th>\n",
       "      <th>SR_Flag</th>\n",
       "      <th>Affiliated_base_number</th>\n",
       "      <th>duration</th>\n",
       "    </tr>\n",
       "  </thead>\n",
       "  <tbody>\n",
       "    <tr>\n",
       "      <th>0</th>\n",
       "      <td>B00009</td>\n",
       "      <td>2021-01-01 00:27:00</td>\n",
       "      <td>2021-01-01 00:44:00</td>\n",
       "      <td>NaN</td>\n",
       "      <td>NaN</td>\n",
       "      <td>None</td>\n",
       "      <td>B00009</td>\n",
       "      <td>0 days 00:17:00</td>\n",
       "    </tr>\n",
       "    <tr>\n",
       "      <th>1</th>\n",
       "      <td>B00009</td>\n",
       "      <td>2021-01-01 00:50:00</td>\n",
       "      <td>2021-01-01 01:07:00</td>\n",
       "      <td>NaN</td>\n",
       "      <td>NaN</td>\n",
       "      <td>None</td>\n",
       "      <td>B00009</td>\n",
       "      <td>0 days 00:17:00</td>\n",
       "    </tr>\n",
       "    <tr>\n",
       "      <th>3</th>\n",
       "      <td>B00037</td>\n",
       "      <td>2021-01-01 00:13:09</td>\n",
       "      <td>2021-01-01 00:21:26</td>\n",
       "      <td>NaN</td>\n",
       "      <td>72.0</td>\n",
       "      <td>None</td>\n",
       "      <td>B00037</td>\n",
       "      <td>0 days 00:08:17</td>\n",
       "    </tr>\n",
       "    <tr>\n",
       "      <th>4</th>\n",
       "      <td>B00037</td>\n",
       "      <td>2021-01-01 00:38:31</td>\n",
       "      <td>2021-01-01 00:53:44</td>\n",
       "      <td>NaN</td>\n",
       "      <td>61.0</td>\n",
       "      <td>None</td>\n",
       "      <td>B00037</td>\n",
       "      <td>0 days 00:15:13</td>\n",
       "    </tr>\n",
       "    <tr>\n",
       "      <th>5</th>\n",
       "      <td>B00037</td>\n",
       "      <td>2021-01-01 00:59:02</td>\n",
       "      <td>2021-01-01 01:08:05</td>\n",
       "      <td>NaN</td>\n",
       "      <td>71.0</td>\n",
       "      <td>None</td>\n",
       "      <td>B00037</td>\n",
       "      <td>0 days 00:09:03</td>\n",
       "    </tr>\n",
       "    <tr>\n",
       "      <th>...</th>\n",
       "      <td>...</td>\n",
       "      <td>...</td>\n",
       "      <td>...</td>\n",
       "      <td>...</td>\n",
       "      <td>...</td>\n",
       "      <td>...</td>\n",
       "      <td>...</td>\n",
       "      <td>...</td>\n",
       "    </tr>\n",
       "    <tr>\n",
       "      <th>1154107</th>\n",
       "      <td>B03266</td>\n",
       "      <td>2021-01-31 23:43:03</td>\n",
       "      <td>2021-01-31 23:51:48</td>\n",
       "      <td>7.0</td>\n",
       "      <td>7.0</td>\n",
       "      <td>None</td>\n",
       "      <td>B03266</td>\n",
       "      <td>0 days 00:08:45</td>\n",
       "    </tr>\n",
       "    <tr>\n",
       "      <th>1154108</th>\n",
       "      <td>B03284</td>\n",
       "      <td>2021-01-31 23:50:27</td>\n",
       "      <td>2021-02-01 00:48:03</td>\n",
       "      <td>44.0</td>\n",
       "      <td>91.0</td>\n",
       "      <td>None</td>\n",
       "      <td></td>\n",
       "      <td>0 days 00:57:36</td>\n",
       "    </tr>\n",
       "    <tr>\n",
       "      <th>1154109</th>\n",
       "      <td>B03285</td>\n",
       "      <td>2021-01-31 23:13:46</td>\n",
       "      <td>2021-01-31 23:29:58</td>\n",
       "      <td>171.0</td>\n",
       "      <td>171.0</td>\n",
       "      <td>None</td>\n",
       "      <td>B03285</td>\n",
       "      <td>0 days 00:16:12</td>\n",
       "    </tr>\n",
       "    <tr>\n",
       "      <th>1154110</th>\n",
       "      <td>B03285</td>\n",
       "      <td>2021-01-31 23:58:03</td>\n",
       "      <td>2021-02-01 00:17:29</td>\n",
       "      <td>15.0</td>\n",
       "      <td>15.0</td>\n",
       "      <td>None</td>\n",
       "      <td>B03285</td>\n",
       "      <td>0 days 00:19:26</td>\n",
       "    </tr>\n",
       "    <tr>\n",
       "      <th>1154111</th>\n",
       "      <td>B03321</td>\n",
       "      <td>2021-01-31 23:39:00</td>\n",
       "      <td>2021-02-01 00:15:00</td>\n",
       "      <td>NaN</td>\n",
       "      <td>NaN</td>\n",
       "      <td>None</td>\n",
       "      <td>B03321</td>\n",
       "      <td>0 days 00:36:00</td>\n",
       "    </tr>\n",
       "  </tbody>\n",
       "</table>\n",
       "<p>1109826 rows × 8 columns</p>\n",
       "</div>"
      ],
      "text/plain": [
       "        dispatching_base_num     pickup_datetime    dropOff_datetime  \\\n",
       "0                     B00009 2021-01-01 00:27:00 2021-01-01 00:44:00   \n",
       "1                     B00009 2021-01-01 00:50:00 2021-01-01 01:07:00   \n",
       "3                     B00037 2021-01-01 00:13:09 2021-01-01 00:21:26   \n",
       "4                     B00037 2021-01-01 00:38:31 2021-01-01 00:53:44   \n",
       "5                     B00037 2021-01-01 00:59:02 2021-01-01 01:08:05   \n",
       "...                      ...                 ...                 ...   \n",
       "1154107               B03266 2021-01-31 23:43:03 2021-01-31 23:51:48   \n",
       "1154108               B03284 2021-01-31 23:50:27 2021-02-01 00:48:03   \n",
       "1154109      B03285          2021-01-31 23:13:46 2021-01-31 23:29:58   \n",
       "1154110      B03285          2021-01-31 23:58:03 2021-02-01 00:17:29   \n",
       "1154111               B03321 2021-01-31 23:39:00 2021-02-01 00:15:00   \n",
       "\n",
       "         PUlocationID  DOlocationID SR_Flag Affiliated_base_number  \\\n",
       "0                 NaN           NaN    None                 B00009   \n",
       "1                 NaN           NaN    None                 B00009   \n",
       "3                 NaN          72.0    None                 B00037   \n",
       "4                 NaN          61.0    None                 B00037   \n",
       "5                 NaN          71.0    None                 B00037   \n",
       "...               ...           ...     ...                    ...   \n",
       "1154107           7.0           7.0    None                 B03266   \n",
       "1154108          44.0          91.0    None                          \n",
       "1154109         171.0         171.0    None        B03285            \n",
       "1154110          15.0          15.0    None        B03285            \n",
       "1154111           NaN           NaN    None                 B03321   \n",
       "\n",
       "               duration  \n",
       "0       0 days 00:17:00  \n",
       "1       0 days 00:17:00  \n",
       "3       0 days 00:08:17  \n",
       "4       0 days 00:15:13  \n",
       "5       0 days 00:09:03  \n",
       "...                 ...  \n",
       "1154107 0 days 00:08:45  \n",
       "1154108 0 days 00:57:36  \n",
       "1154109 0 days 00:16:12  \n",
       "1154110 0 days 00:19:26  \n",
       "1154111 0 days 00:36:00  \n",
       "\n",
       "[1109826 rows x 8 columns]"
      ]
     },
     "execution_count": 4,
     "metadata": {},
     "output_type": "execute_result"
    }
   ],
   "source": [
    "df_clean = df[df['duration'].between(pd.Timedelta(1, \"m\"), pd.Timedelta(60, \"m\"))]\n",
    "df_clean"
   ]
  },
  {
   "cell_type": "code",
   "execution_count": 5,
   "id": "7ecce25d",
   "metadata": {},
   "outputs": [
    {
     "name": "stderr",
     "output_type": "stream",
     "text": [
      "<ipython-input-5-dbaefffd25a1>:1: SettingWithCopyWarning: \n",
      "A value is trying to be set on a copy of a slice from a DataFrame.\n",
      "Try using .loc[row_indexer,col_indexer] = value instead\n",
      "\n",
      "See the caveats in the documentation: https://pandas.pydata.org/pandas-docs/stable/user_guide/indexing.html#returning-a-view-versus-a-copy\n",
      "  df_clean['PUlocationID'] = df_clean['PUlocationID'].fillna(-1)\n",
      "<ipython-input-5-dbaefffd25a1>:2: SettingWithCopyWarning: \n",
      "A value is trying to be set on a copy of a slice from a DataFrame.\n",
      "Try using .loc[row_indexer,col_indexer] = value instead\n",
      "\n",
      "See the caveats in the documentation: https://pandas.pydata.org/pandas-docs/stable/user_guide/indexing.html#returning-a-view-versus-a-copy\n",
      "  df_clean['DOlocationID'] = df_clean['DOlocationID'].fillna(-1)\n"
     ]
    },
    {
     "data": {
      "text/plain": [
       "0.8352732770722617"
      ]
     },
     "execution_count": 5,
     "metadata": {},
     "output_type": "execute_result"
    }
   ],
   "source": [
    "df_clean['PUlocationID'] = df_clean['PUlocationID'].fillna(-1)\n",
    "df_clean['DOlocationID'] = df_clean['DOlocationID'].fillna(-1)\n",
    "df_clean['PUlocationID'].value_counts()[-1.0] / len(df_clean)"
   ]
  },
  {
   "cell_type": "markdown",
   "id": "be138827",
   "metadata": {},
   "source": [
    "**Q3: What's the fractions of missing values for the pickup location ID?**\n",
    "A: 83%"
   ]
  },
  {
   "cell_type": "code",
   "execution_count": 6,
   "id": "f132daf8",
   "metadata": {},
   "outputs": [
    {
     "name": "stderr",
     "output_type": "stream",
     "text": [
      "<ipython-input-6-f335cf651c6d>:2: SettingWithCopyWarning: \n",
      "A value is trying to be set on a copy of a slice from a DataFrame.\n",
      "Try using .loc[row_indexer,col_indexer] = value instead\n",
      "\n",
      "See the caveats in the documentation: https://pandas.pydata.org/pandas-docs/stable/user_guide/indexing.html#returning-a-view-versus-a-copy\n",
      "  df_clean[categorical] = df_clean[categorical].astype(str)\n"
     ]
    },
    {
     "data": {
      "text/plain": [
       "(1109826, 525)"
      ]
     },
     "execution_count": 6,
     "metadata": {},
     "output_type": "execute_result"
    }
   ],
   "source": [
    "categorical = ['PUlocationID', 'DOlocationID']\n",
    "df_clean[categorical] = df_clean[categorical].astype(str)\n",
    "\n",
    "train_dicts = df_clean[categorical].to_dict(orient='records')\n",
    "\n",
    "dv = DictVectorizer()\n",
    "X_1 = dv.fit_transform(train_dicts)\n",
    "X_1.shape\n"
   ]
  },
  {
   "cell_type": "markdown",
   "id": "535ac287",
   "metadata": {},
   "source": [
    "**Q4: What's the dimensionality of this matrix? (The number of columns).**\n",
    "A: 525"
   ]
  },
  {
   "cell_type": "code",
   "execution_count": 7,
   "id": "0b13abaf",
   "metadata": {},
   "outputs": [
    {
     "name": "stderr",
     "output_type": "stream",
     "text": [
      "<ipython-input-7-f987a0755b14>:1: SettingWithCopyWarning: \n",
      "A value is trying to be set on a copy of a slice from a DataFrame.\n",
      "Try using .loc[row_indexer,col_indexer] = value instead\n",
      "\n",
      "See the caveats in the documentation: https://pandas.pydata.org/pandas-docs/stable/user_guide/indexing.html#returning-a-view-versus-a-copy\n",
      "  df_clean['duration_min'] = df_clean.duration.apply(lambda td: td.total_seconds() / 60)\n"
     ]
    }
   ],
   "source": [
    "df_clean['duration_min'] = df_clean.duration.apply(lambda td: td.total_seconds() / 60)\n"
   ]
  },
  {
   "cell_type": "code",
   "execution_count": 8,
   "id": "02bd410a",
   "metadata": {},
   "outputs": [
    {
     "data": {
      "text/plain": [
       "LinearRegression()"
      ]
     },
     "execution_count": 8,
     "metadata": {},
     "output_type": "execute_result"
    }
   ],
   "source": [
    "y_train = df_clean['duration_min']\n",
    "lr = LinearRegression()\n",
    "lr.fit(X_1, y_train)"
   ]
  },
  {
   "cell_type": "code",
   "execution_count": 9,
   "id": "83f7f295",
   "metadata": {},
   "outputs": [
    {
     "name": "stdout",
     "output_type": "stream",
     "text": [
      "10.52851938897048\n"
     ]
    }
   ],
   "source": [
    "y_pred = lr.predict(X_1)\n",
    "rmse = mean_squared_error(y_train, y_pred, squared=False)\n",
    "print(rmse)"
   ]
  },
  {
   "cell_type": "markdown",
   "id": "23bc1870",
   "metadata": {},
   "source": [
    "**Q5: RMSE on train**\n",
    "A: 10.5%"
   ]
  },
  {
   "cell_type": "code",
   "execution_count": 10,
   "id": "75282d44",
   "metadata": {},
   "outputs": [],
   "source": [
    "df_validate = pd.read_parquet('~/Downloads/fhv_tripdata_2021-02.parquet')\n",
    "df_validate['PUlocationID'].fillna(-1)\n",
    "df_validate['DOlocationID'].fillna(-1)\n",
    "df_validate['duration'] = df_validate['dropOff_datetime'] - df_validate['pickup_datetime']\n",
    "df_validate = df_validate[df_validate['duration'].between(pd.Timedelta(1, \"m\"), pd.Timedelta(60, \"m\"))]\n",
    "df_validate['duration_min'] = df_validate.duration.apply(lambda td: td.total_seconds() / 60)\n",
    "\n",
    "df_validate[categorical] = df_validate[categorical].astype(str)\n",
    "\n",
    "train_dicts = df_validate[categorical].to_dict(orient='records')\n",
    "\n",
    "X_val = dv.transform(train_dicts)\n",
    "y_pred = lr.predict(X_val)\n"
   ]
  },
  {
   "cell_type": "code",
   "execution_count": 11,
   "id": "d0e059d8",
   "metadata": {},
   "outputs": [
    {
     "name": "stdout",
     "output_type": "stream",
     "text": [
      "11.36412428666764\n"
     ]
    }
   ],
   "source": [
    "y_val = df_validate['duration_min']\n",
    "rmse = mean_squared_error(y_val, y_pred, squared=False)\n",
    "print(rmse)"
   ]
  },
  {
   "cell_type": "markdown",
   "id": "6e4c0f45",
   "metadata": {},
   "source": [
    "**Q6: RMSE on validation?**\n",
    "A: 11.4%"
   ]
  }
 ],
 "metadata": {
  "kernelspec": {
   "display_name": "Python 3",
   "language": "python",
   "name": "python3"
  },
  "language_info": {
   "codemirror_mode": {
    "name": "ipython",
    "version": 3
   },
   "file_extension": ".py",
   "mimetype": "text/x-python",
   "name": "python",
   "nbconvert_exporter": "python",
   "pygments_lexer": "ipython3",
   "version": "3.8.8"
  }
 },
 "nbformat": 4,
 "nbformat_minor": 5
}
